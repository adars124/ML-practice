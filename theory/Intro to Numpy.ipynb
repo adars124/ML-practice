{
 "cells": [
  {
   "cell_type": "markdown",
   "id": "5d8cdb9c-a65f-4ffb-bcda-a032104a1a67",
   "metadata": {},
   "source": [
    "### Introduction to NumPy\n",
    "1. NumPy **(Numerical Python)** is a fundamental library for numerical computing in Python. It provides support for arrays, matrices, and high-level mathematical functions.\n",
    "2. It includes a comprehensive collection of packages containing mathematical functions for performing statistical analysis, linear algebra operations, and so on.\n",
    "3. **Broadcasting**:\n",
    "      - It is one of NumPy's key feature which allows operation on arrays (matrices) of different shapes in a way that avoids unnecessary data duplication."
   ]
  },
  {
   "cell_type": "code",
   "execution_count": 53,
   "id": "78d648dc-444a-4ff5-920c-dc8144020e94",
   "metadata": {},
   "outputs": [],
   "source": [
    "import numpy as np"
   ]
  },
  {
   "cell_type": "markdown",
   "id": "b0070412-0e1d-4bba-8274-8e198a3a6852",
   "metadata": {},
   "source": [
    "### 1) Array Creation"
   ]
  },
  {
   "cell_type": "code",
   "execution_count": 54,
   "id": "534f3568-cf33-4592-b423-faae14264677",
   "metadata": {},
   "outputs": [
    {
     "data": {
      "text/plain": [
       "(array([ 1,  2,  3,  4,  5,  6,  7,  8,  9, 10]), 'Dimension: 1')"
      ]
     },
     "execution_count": 54,
     "metadata": {},
     "output_type": "execute_result"
    }
   ],
   "source": [
    "# Create a 1d array of integers from 1 to 10\n",
    "arr1 = np.array([i for i in range(1, 11)])\n",
    "\n",
    "arr1, f\"Dimension: {arr1.ndim}\""
   ]
  },
  {
   "cell_type": "code",
   "execution_count": 58,
   "id": "de756063-6495-4ba6-85a7-68405004e7b4",
   "metadata": {},
   "outputs": [
    {
     "data": {
      "text/plain": [
       "(array([[0.84594348, 0.3779838 , 0.89060579, 0.63957671],\n",
       "        [0.69291441, 0.34265492, 0.70033623, 0.0408215 ],\n",
       "        [0.56405681, 0.21479088, 0.65299604, 0.11930519]]),\n",
       " 'Dimension: 2')"
      ]
     },
     "execution_count": 58,
     "metadata": {},
     "output_type": "execute_result"
    }
   ],
   "source": [
    "# Create a 2d array with random float values of shape (3, 4) = (rows, cols)\n",
    "arr2 = np.random.rand(3, 4)\n",
    "\n",
    "arr2, f\"Dimension: {arr2.ndim}\""
   ]
  },
  {
   "cell_type": "code",
   "execution_count": 59,
   "id": "946c4cfe-03f5-4491-9783-9541209ce0e1",
   "metadata": {},
   "outputs": [
    {
     "data": {
      "text/plain": [
       "(array([[[0., 0., 0., 0.],\n",
       "         [0., 0., 0., 0.],\n",
       "         [0., 0., 0., 0.]],\n",
       " \n",
       "        [[0., 0., 0., 0.],\n",
       "         [0., 0., 0., 0.],\n",
       "         [0., 0., 0., 0.]]]),\n",
       " 'Dimension: 3')"
      ]
     },
     "execution_count": 59,
     "metadata": {},
     "output_type": "execute_result"
    }
   ],
   "source": [
    "# Create a 3d array of zeroes with shape (2, 3, 4) = (blocks, rows, cols)\n",
    "arr3 = np.zeros((2, 3, 4)) # In this case, two blocks (or layers), each containing a 3x4 matrix\n",
    "arr3, f\"Dimension: {arr3.ndim}\""
   ]
  },
  {
   "cell_type": "code",
   "execution_count": 60,
   "id": "09826c22-975a-4a80-b2ae-0a7153452592",
   "metadata": {},
   "outputs": [
    {
     "data": {
      "text/plain": [
       "array([[7, 7, 7],\n",
       "       [7, 7, 7],\n",
       "       [7, 7, 7],\n",
       "       [7, 7, 7]])"
      ]
     },
     "execution_count": 60,
     "metadata": {},
     "output_type": "execute_result"
    }
   ],
   "source": [
    "# Create an array of shape(4,3) with all the elements '7' and dtype 'int'\n",
    "arr4 = np.ones((4, 3), dtype=int) * 7\n",
    "arr4"
   ]
  },
  {
   "cell_type": "markdown",
   "id": "c97e722c-7341-4995-bf5a-15567f93ab7f",
   "metadata": {},
   "source": [
    "### np.arange\n",
    "- Syntax:\n",
    "  - `arange(stop)`: Generates values from 0 to `stop` (exclusive) -> [0, stop)\n",
    "  - `arange(start, stop)`: Generates values from `start` to `stop` (exclusive) -> [start, stop).\n",
    "  - `arange(start, stop, step)`: Generates values from `start` to `stop` (exclusive) with a `step` interval  -> [start, stop)"
   ]
  },
  {
   "cell_type": "code",
   "execution_count": 61,
   "id": "58888153-192d-432e-8900-e725b3626184",
   "metadata": {},
   "outputs": [
    {
     "data": {
      "text/plain": [
       "(array([0, 1, 2, 3, 4, 5, 6, 7, 8, 9]),\n",
       " array([10, 11, 12, 13, 14, 15, 16, 17, 18, 19]),\n",
       " array([10, 13, 16, 19, 22, 25, 28]))"
      ]
     },
     "execution_count": 61,
     "metadata": {},
     "output_type": "execute_result"
    }
   ],
   "source": [
    "# Usage\n",
    "a = np.arange(10)\n",
    "b = np.arange(10, 20)\n",
    "c = np.arange(10, 30, 3)\n",
    "a, b, c"
   ]
  },
  {
   "cell_type": "markdown",
   "id": "7b2714be-2976-4ccc-80cf-8e57c69dbe27",
   "metadata": {},
   "source": [
    "### like\n",
    "- It is used to create new arrays with the same shape and type as a given array.\n",
    "- `numpy.ones_like(a, dtype=None, order='K', subok=True, shape=None)`: filled with ones\n",
    "- `numpy.empty_like(a, dtype=None, order='K', subok=True, shape=None)`: filled with uninitialized values"
   ]
  },
  {
   "cell_type": "code",
   "execution_count": 62,
   "id": "a328fb27-e8f9-4690-ab51-3c6de2b02f95",
   "metadata": {},
   "outputs": [
    {
     "data": {
      "text/plain": [
       "(array([[1., 1., 1., 1.],\n",
       "        [1., 1., 1., 1.],\n",
       "        [1., 1., 1., 1.]]),\n",
       " array([[0.84594348, 0.3779838 , 0.89060579, 0.63957671],\n",
       "        [0.69291441, 0.34265492, 0.70033623, 0.0408215 ],\n",
       "        [0.56405681, 0.21479088, 0.65299604, 0.11930519]]))"
      ]
     },
     "execution_count": 62,
     "metadata": {},
     "output_type": "execute_result"
    }
   ],
   "source": [
    "# Usage\n",
    "np.ones_like(arr2), np.empty_like(arr2)"
   ]
  },
  {
   "cell_type": "markdown",
   "id": "505c4918-8697-4f88-9192-7be68f3e9679",
   "metadata": {},
   "source": [
    "### NumPy Array Slicing\n",
    "\n",
    "Slicing in NumPy arrays allows you to access a subset of an array. This is useful for manipulating and analyzing specific sections of data without copying the array. Slicing works with multi-dimensional arrays and follows the pattern of `start:stop:step`.\n",
    "\n",
    "**Note**: One main distinction between python list and numpy array is that the slice is not the copy of original list, rather it's the original list itself."
   ]
  },
  {
   "cell_type": "code",
   "execution_count": 67,
   "id": "84481528-148d-48a5-93e9-bd0080f4daeb",
   "metadata": {},
   "outputs": [
    {
     "data": {
      "text/plain": [
       "(array([2, 3, 4, 5, 6]), array([1, 3, 5, 7]))"
      ]
     },
     "execution_count": 67,
     "metadata": {},
     "output_type": "execute_result"
    }
   ],
   "source": [
    "# 1d array\n",
    "arr1 = np.array([0, 1, 2, 3, 4, 5, 6, 7, 8, 9])\n",
    "arr1[2:7], arr1[1:9:2] # with step"
   ]
  },
  {
   "cell_type": "code",
   "execution_count": 69,
   "id": "f2e2a4dc-4eef-4fda-906e-07149c07c857",
   "metadata": {},
   "outputs": [
    {
     "data": {
      "text/plain": [
       "(array([[3, 4],\n",
       "        [6, 7]]),\n",
       " array([[0, 2],\n",
       "        [6, 8]]))"
      ]
     },
     "execution_count": 69,
     "metadata": {},
     "output_type": "execute_result"
    }
   ],
   "source": [
    "# 2d array\n",
    "arr2 = np.array([[0, 1, 2], [3, 4, 5], [6, 7, 8]])\n",
    "arr2[1:3, 0:2], arr2[::2, ::2] # with step"
   ]
  },
  {
   "cell_type": "code",
   "execution_count": 72,
   "id": "3ebb7268-657e-442f-a740-c19025c6385a",
   "metadata": {},
   "outputs": [
    {
     "data": {
      "text/plain": [
       "(array([0, 1, 2, 3, 4]), array([9, 8, 7, 6, 5, 4, 3, 2, 1, 0]))"
      ]
     },
     "execution_count": 72,
     "metadata": {},
     "output_type": "execute_result"
    }
   ],
   "source": [
    "# Negative indices\n",
    "arr1[:5], arr1[::-1] # reverse"
   ]
  },
  {
   "cell_type": "code",
   "execution_count": 74,
   "id": "cc3b0176-0f6b-4ebe-a933-8bb44f69ce46",
   "metadata": {},
   "outputs": [
    {
     "data": {
      "text/plain": [
       "(array([1, 4, 7]), array([3, 4, 5]))"
      ]
     },
     "execution_count": 74,
     "metadata": {},
     "output_type": "execute_result"
    }
   ],
   "source": [
    "# Accessing rows and cols\n",
    "arr2[:, 1], arr2[1, :]"
   ]
  },
  {
   "cell_type": "code",
   "execution_count": 82,
   "id": "e5d27c51-2a70-4787-a02d-6468af39d6dc",
   "metadata": {},
   "outputs": [
    {
     "data": {
      "text/plain": [
       "(array([6, 7, 8, 9]), array([False,  True, False, False]))"
      ]
     },
     "execution_count": 82,
     "metadata": {},
     "output_type": "execute_result"
    }
   ],
   "source": [
    "# Boolean Indexing\n",
    "lang = np.array([\"JAVA\", \"PYTHON\", \"RUST\", \"GO\"])\n",
    "arr1[arr1 > 5], lang == \"PYTHON\""
   ]
  },
  {
   "cell_type": "code",
   "execution_count": 80,
   "id": "088e845f-ba2c-4e3d-896f-ffc182848f08",
   "metadata": {},
   "outputs": [
    {
     "data": {
      "text/plain": [
       "array([ 0,  1,  2,  3,  4,  5,  6,  7,  8,  9, 20, 20, 20, 20, 20, 20, 16,\n",
       "       17, 18, 19])"
      ]
     },
     "execution_count": 80,
     "metadata": {},
     "output_type": "execute_result"
    }
   ],
   "source": [
    "# Assigning same values to a range\n",
    "slice = np.arange(20)\n",
    "slice[10:16] = 20\n",
    "slice"
   ]
  },
  {
   "cell_type": "code",
   "execution_count": 81,
   "id": "7fb94e6c-57ff-4218-8a29-52b7981c7429",
   "metadata": {},
   "outputs": [
    {
     "data": {
      "text/plain": [
       "array([ 0,  1,  2,  3,  4,  5,  6,  7,  8,  9, 20, 20, 20, 20, 20, 20, 16,\n",
       "       17, 18, 19])"
      ]
     },
     "execution_count": 81,
     "metadata": {},
     "output_type": "execute_result"
    }
   ],
   "source": [
    "# We can avoid changes to the original list by\n",
    "copied_slice = slice.copy()\n",
    "copied_slice"
   ]
  },
  {
   "cell_type": "markdown",
   "id": "889a7e6a-412c-43a6-be37-7aa572d1c495",
   "metadata": {},
   "source": [
    "#### Masking and Indexing"
   ]
  },
  {
   "cell_type": "code",
   "execution_count": 3,
   "id": "ec1ddb3f-f877-49ed-ac6d-f30076777098",
   "metadata": {},
   "outputs": [
    {
     "data": {
      "text/plain": [
       "array([[ 2,  4,  7,  9, 12],\n",
       "       [14, 17, 19, 22, 24],\n",
       "       [27, 29, 32, 34, 37],\n",
       "       [39, 42, 44, 47, 50]])"
      ]
     },
     "execution_count": 3,
     "metadata": {},
     "output_type": "execute_result"
    }
   ],
   "source": [
    "import numpy as np\n",
    "mask_arr = np.linspace(2, 50, 20, dtype=int).reshape(4, -1)\n",
    "mask_arr"
   ]
  },
  {
   "cell_type": "code",
   "execution_count": 114,
   "id": "223f2e4a-3539-4a25-80e3-58f78733f0a5",
   "metadata": {},
   "outputs": [
    {
     "data": {
      "text/plain": [
       "array([[False, False,  True,  True, False],\n",
       "       [False,  True,  True, False, False],\n",
       "       [ True,  True, False, False,  True],\n",
       "       [ True, False, False,  True, False]])"
      ]
     },
     "execution_count": 114,
     "metadata": {},
     "output_type": "execute_result"
    }
   ],
   "source": [
    "# Creating the mask (applicable in one-hot encoding)\n",
    "mask = mask_arr % 2 == 1\n",
    "mask"
   ]
  },
  {
   "cell_type": "code",
   "execution_count": 116,
   "id": "987a13f7-2c4d-45f7-8759-4abac13873a9",
   "metadata": {},
   "outputs": [
    {
     "data": {
      "text/plain": [
       "array([ 7,  9, 17, 19, 27, 29, 37, 39, 47])"
      ]
     },
     "execution_count": 116,
     "metadata": {},
     "output_type": "execute_result"
    }
   ],
   "source": [
    "# Getting only the masked values\n",
    "masked_arr = mask_arr[mask]\n",
    "masked_arr"
   ]
  },
  {
   "cell_type": "code",
   "execution_count": 109,
   "id": "27033b43-ed81-4360-a825-c709ce2817ee",
   "metadata": {},
   "outputs": [
    {
     "data": {
      "text/plain": [
       "array([[17, 25, 14,  8,  7],\n",
       "       [22, 19,  6, 15, 12],\n",
       "       [11, 18, 10, 21,  9],\n",
       "       [16, 20, 13,  2,  1],\n",
       "       [ 3, 23,  5,  4, 24]])"
      ]
     },
     "execution_count": 109,
     "metadata": {},
     "output_type": "execute_result"
    }
   ],
   "source": [
    "# Creating a BINGO card\n",
    "arr = np.arange(1, 26)\n",
    "np.random.shuffle(arr)\n",
    "\n",
    "bingo = arr.reshape(5, -1) # (rows, cols)\n",
    "bingo"
   ]
  },
  {
   "cell_type": "markdown",
   "id": "9b819207-0623-4aa7-a1e9-0dc56afc0e77",
   "metadata": {},
   "source": [
    "#### Mathematics"
   ]
  },
  {
   "cell_type": "code",
   "execution_count": 119,
   "id": "68571ad1-ab04-47e3-b775-350782462e58",
   "metadata": {},
   "outputs": [
    {
     "data": {
      "text/plain": [
       "(array([  6,  32,  45, 122]), array([  6,  32,  45, 122]))"
      ]
     },
     "execution_count": 119,
     "metadata": {},
     "output_type": "execute_result"
    }
   ],
   "source": [
    "# Arithmetic operations\n",
    "x = np.array([4, 19, 23, 90])\n",
    "y = np.array([2, 13, 22, 32])\n",
    "\n",
    "# Two methods for element-wise addition\n",
    "x + y, np.add(x, y)"
   ]
  },
  {
   "cell_type": "markdown",
   "id": "f5d02fb4-8fb3-4677-be34-6d280d50940e",
   "metadata": {},
   "source": [
    "*Note: Subtraction, Multiplication and Division can be carried out in the same fashion using `np.subtract`, `np.multiply` and `np.divide`.  \n",
    "For Floor division `np.floor_division` can be used.*"
   ]
  },
  {
   "cell_type": "code",
   "execution_count": 125,
   "id": "4cc654aa-ce25-4013-a6ad-bb2c794eb2e2",
   "metadata": {},
   "outputs": [
    {
     "name": "stdout",
     "output_type": "stream",
     "text": [
      "sine: [ 0.          0.84147098 -0.98803162  0.89399666  0.58061118 -0.71487643\n",
      " -0.80115264]\n",
      "cosine: [ 1.          0.54030231  0.15425145 -0.44807362  0.81418097  0.69925081\n",
      " -0.59846007]\n",
      "tangent: [ 0.          1.55740772 -6.4053312  -1.99520041  0.71312301 -1.02234624\n",
      "  1.33869021]\n"
     ]
    }
   ],
   "source": [
    "# Trigonometric operations\n",
    "x = np.array([0., 1., 30, 90, 120, 150, 180])\n",
    "\n",
    "print(\"sine:\", np.sin(x))\n",
    "print(\"cosine:\", np.cos(x))\n",
    "print(\"tangent:\", np.tan(x))"
   ]
  },
  {
   "cell_type": "markdown",
   "id": "59989407-3030-4c0c-8ae5-2ad950ee1c30",
   "metadata": {},
   "source": [
    "Calculation of inverse sine, inverse cosine, and inverse tangent, element-wise."
   ]
  },
  {
   "cell_type": "code",
   "execution_count": 126,
   "id": "b6bde4ef-9614-4d59-93d6-e8125ea81bff",
   "metadata": {},
   "outputs": [
    {
     "name": "stdout",
     "output_type": "stream",
     "text": [
      "sine: [-1.57079633  0.          1.57079633]\n",
      "cosine: [3.14159265 1.57079633 0.        ]\n",
      "tangent: [-0.78539816  0.          0.78539816]\n"
     ]
    }
   ],
   "source": [
    "x = np.array([-1, 0, 1])\n",
    "\n",
    "print(\"sine:\", np.arcsin(x))\n",
    "print(\"cosine:\", np.arccos(x))\n",
    "print(\"tangent:\", np.arctan(x))"
   ]
  },
  {
   "cell_type": "markdown",
   "id": "b4dbd40e-19e5-437d-b1b7-9440e4de0f4d",
   "metadata": {},
   "source": [
    "Convert angles from radians to degrees."
   ]
  },
  {
   "cell_type": "code",
   "execution_count": 127,
   "id": "0acc977c-ae4d-4f71-bae6-14065f69044c",
   "metadata": {},
   "outputs": [
    {
     "name": "stdout",
     "output_type": "stream",
     "text": [
      "out1: [-180.  -90.   90.  180.] and out2: [-180.  -90.   90.  180.]\n"
     ]
    }
   ],
   "source": [
    "x = np.array([-np.pi, -np.pi/2, np.pi/2, np.pi])\n",
    "\n",
    "output_1 = np.degrees(x)\n",
    "output_2 = np.rad2deg(x)\n",
    "assert np.array_equiv(output_1, output_2)\n",
    "print(f'out1: {output_1} and out2: {output_2}')"
   ]
  },
  {
   "cell_type": "markdown",
   "id": "cc7e3fb0-1c9a-4b7a-bbe1-b5c64ed03fb8",
   "metadata": {},
   "source": [
    "Convert angles from degrees to radians."
   ]
  },
  {
   "cell_type": "code",
   "execution_count": 128,
   "id": "f9b41ad1-a3c7-4156-b53e-c3229c06fc46",
   "metadata": {},
   "outputs": [
    {
     "name": "stdout",
     "output_type": "stream",
     "text": [
      "out1: [-3.14159265 -1.57079633  1.57079633  3.14159265] and out2: [-3.14159265 -1.57079633  1.57079633  3.14159265]\n"
     ]
    }
   ],
   "source": [
    "x = np.array([-180.,  -90.,   90.,  180.])\n",
    "\n",
    "output_1 = np.radians(x)\n",
    "output_2 = np.deg2rad(x)\n",
    "assert np.array_equiv(output_1, output_2)\n",
    "print(f'out1: {output_1} and out2: {output_2}')"
   ]
  },
  {
   "cell_type": "markdown",
   "id": "5361f730-380d-4872-bd81-52f08dc3a118",
   "metadata": {},
   "source": [
    "#### Statistics and Linear Algebra"
   ]
  },
  {
   "cell_type": "code",
   "execution_count": 129,
   "id": "babded56-b661-4e9d-a49c-5740356f996b",
   "metadata": {},
   "outputs": [
    {
     "data": {
      "text/plain": [
       "array([[1, 2, 3, 4],\n",
       "       [5, 6, 7, 8]])"
      ]
     },
     "execution_count": 129,
     "metadata": {},
     "output_type": "execute_result"
    }
   ],
   "source": [
    "x = np.array([[1, 2, 3, 4],[5, 6, 7, 8]])\n",
    "x"
   ]
  },
  {
   "cell_type": "code",
   "execution_count": 130,
   "id": "4a26de2a-3318-43f6-a1af-d24326c97b15",
   "metadata": {},
   "outputs": [
    {
     "data": {
      "text/plain": [
       "array([[1, 5],\n",
       "       [2, 6],\n",
       "       [3, 7],\n",
       "       [4, 8]])"
      ]
     },
     "execution_count": 130,
     "metadata": {},
     "output_type": "execute_result"
    }
   ],
   "source": [
    "x.T"
   ]
  },
  {
   "cell_type": "code",
   "execution_count": 131,
   "id": "17471328-8c8b-4508-9415-975877cfd895",
   "metadata": {},
   "outputs": [
    {
     "data": {
      "text/plain": [
       "36"
      ]
     },
     "execution_count": 131,
     "metadata": {},
     "output_type": "execute_result"
    }
   ],
   "source": [
    "sum_a = x.sum()\n",
    "sum_a"
   ]
  },
  {
   "cell_type": "code",
   "execution_count": 132,
   "id": "ed010aa0-38d9-4fae-8899-09b1aad42e44",
   "metadata": {},
   "outputs": [
    {
     "data": {
      "text/plain": [
       "array([ 6,  8, 10, 12])"
      ]
     },
     "execution_count": 132,
     "metadata": {},
     "output_type": "execute_result"
    }
   ],
   "source": [
    "sum_across_col = x.sum(axis=0)\n",
    "sum_across_col"
   ]
  },
  {
   "cell_type": "code",
   "execution_count": 133,
   "id": "eaba03b3-e2e9-4a04-8684-9bad86235828",
   "metadata": {},
   "outputs": [
    {
     "data": {
      "text/plain": [
       "array([10, 26])"
      ]
     },
     "execution_count": 133,
     "metadata": {},
     "output_type": "execute_result"
    }
   ],
   "source": [
    "sum_across_row = x.sum(axis=1)\n",
    "sum_across_row"
   ]
  },
  {
   "cell_type": "code",
   "execution_count": 134,
   "id": "c9c83b2b-e285-4a6d-83f8-39f1ccb2a9a8",
   "metadata": {},
   "outputs": [
    {
     "data": {
      "text/plain": [
       "4.5"
      ]
     },
     "execution_count": 134,
     "metadata": {},
     "output_type": "execute_result"
    }
   ],
   "source": [
    "mean_a = x.mean()\n",
    "mean_a"
   ]
  },
  {
   "cell_type": "code",
   "execution_count": 135,
   "id": "194f2187-14b2-4661-a060-917e67947584",
   "metadata": {},
   "outputs": [
    {
     "data": {
      "text/plain": [
       "array([3., 4., 5., 6.])"
      ]
     },
     "execution_count": 135,
     "metadata": {},
     "output_type": "execute_result"
    }
   ],
   "source": [
    "mean_across_col = x.mean(axis=0)\n",
    "mean_across_col"
   ]
  },
  {
   "cell_type": "code",
   "execution_count": 136,
   "id": "96c8f919-3735-431d-8a29-641ab25dd607",
   "metadata": {},
   "outputs": [
    {
     "data": {
      "text/plain": [
       "array([2.5, 6.5])"
      ]
     },
     "execution_count": 136,
     "metadata": {},
     "output_type": "execute_result"
    }
   ],
   "source": [
    "mean_across_row = x.mean(axis=1)\n",
    "mean_across_row"
   ]
  },
  {
   "cell_type": "code",
   "execution_count": 137,
   "id": "44cad6d8-0d2a-4646-afa3-714dd0392196",
   "metadata": {},
   "outputs": [],
   "source": [
    "array_a = np.array([[1, 2, 3, 4, 5],[1, 3, 4, 6, 7]])\n",
    "array_b = np.array([[2, 4, 6, 8, 10], [1, 3, 5, 7, 9]])"
   ]
  },
  {
   "cell_type": "code",
   "execution_count": 138,
   "id": "b1228415-68c4-4982-b20a-d641944a502f",
   "metadata": {},
   "outputs": [
    {
     "data": {
      "text/plain": [
       "array([[ 3,  6,  9, 12, 15],\n",
       "       [ 3,  9, 12, 18, 21]])"
      ]
     },
     "execution_count": 138,
     "metadata": {},
     "output_type": "execute_result"
    }
   ],
   "source": [
    "array_a * 3"
   ]
  },
  {
   "cell_type": "markdown",
   "id": "9d71688e-cd41-43bb-8f4e-5e5a73bc08f3",
   "metadata": {},
   "source": [
    "### Dot Product\n",
    "\n",
    "The dot product, also known as the scalar product or inner product, is a binary operation that takes two equal-length sequences of numbers (vectors) and returns a single number. In the context of linear algebra, the dot product of two vectors $ \\overrightarrow{a} $ and $ \\overrightarrow{b} $ is defined as:\n",
    "\n",
    "$$\n",
    "\\overrightarrow{a} \\cdot \\overrightarrow{b} = \\sum_{i=1}^{n} a_i b_i\n",
    "$$\n",
    "\n",
    "Where:\n",
    "- $ \\overrightarrow{a} = [a_1, a_2, ..., a_n] $ and $ \\overrightarrow{b} = [b_1, b_2, ..., b_n] $ are the vectors.\n",
    "- $ n $ is the number of elements in each vector.\n",
    "- $ \\overrightarrow{a} \\cdot \\overrightarrow{b} = a_1 \\cdot b_1 + a_2 \\cdot b_2 + a_3 \\cdot b_3 + ... + a_n \\cdot b_n $"
   ]
  },
  {
   "cell_type": "code",
   "execution_count": 145,
   "id": "bfecad3d-747b-48b7-927b-1621d115bea3",
   "metadata": {},
   "outputs": [
    {
     "data": {
      "text/plain": [
       "array([[110,  95],\n",
       "       [156, 135]])"
      ]
     },
     "execution_count": 145,
     "metadata": {},
     "output_type": "execute_result"
    }
   ],
   "source": [
    "# Example\n",
    "dot_product = array_a.dot(array_b.T)\n",
    "dot_product"
   ]
  },
  {
   "cell_type": "markdown",
   "id": "d06b6580-259a-44da-9e30-c0b7ce72d1c9",
   "metadata": {},
   "source": [
    "#### Datetime Module"
   ]
  },
  {
   "cell_type": "code",
   "execution_count": 147,
   "id": "3ce28d17-64c9-45c8-a053-d1b9761291ae",
   "metadata": {},
   "outputs": [],
   "source": [
    "from datetime import datetime"
   ]
  },
  {
   "cell_type": "code",
   "execution_count": 148,
   "id": "998b783d-3108-4875-a207-7d92d20cfe89",
   "metadata": {},
   "outputs": [],
   "source": [
    "def calculate_sum_from_numpy(n):\n",
    "    a = np.arange(n) ** 2\n",
    "    b = np.arange(n) ** 3\n",
    "    c = a + b\n",
    "    return c"
   ]
  },
  {
   "cell_type": "code",
   "execution_count": 149,
   "id": "01f93063-e2c3-4dfb-b4fb-6ddfc5ee8e55",
   "metadata": {},
   "outputs": [],
   "source": [
    "def calculate_sum_from_list_loops(n):\n",
    "    a = list(range(n))\n",
    "    b = list(range(n))\n",
    "    c = []\n",
    "    for i in range(len(a)):\n",
    "        a[i] = i ** 2\n",
    "        b[i] = i ** 3\n",
    "        c.append(a[i] + b[i])\n",
    "    return c"
   ]
  },
  {
   "cell_type": "code",
   "execution_count": 150,
   "id": "5271569b-05c6-4ce5-a0a9-e9d991c6b79e",
   "metadata": {},
   "outputs": [
    {
     "name": "stdout",
     "output_type": "stream",
     "text": [
      "The last 2 elements of the sum [999950000799996, 999980000100000]\n",
      "Python Loop and List elapsed time in microseconds 0:00:00.052933\n"
     ]
    }
   ],
   "source": [
    "start = datetime.now()\n",
    "c = calculate_sum_from_list_loops(100000)\n",
    "delta = datetime.now() - start\n",
    "print(\"The last 2 elements of the sum\", c[-2:])\n",
    "print(\"Python Loop and List elapsed time in microseconds\", delta)"
   ]
  },
  {
   "cell_type": "code",
   "execution_count": 152,
   "id": "e7059cdd-52af-4ab1-ac1f-afe55041e6a1",
   "metadata": {},
   "outputs": [
    {
     "name": "stdout",
     "output_type": "stream",
     "text": [
      "The last 2 elements of the sum [999950000799996 999980000100000]\n",
      "Numpy elapsed time in microseconds 0:00:00.001522\n"
     ]
    }
   ],
   "source": [
    "start_numpy = datetime.now()\n",
    "c = calculate_sum_from_numpy(100000)\n",
    "delta_numpy = datetime.now() - start_numpy\n",
    "print(\"The last 2 elements of the sum\", c[-2:])\n",
    "print(\"Numpy elapsed time in microseconds\", delta_numpy)"
   ]
  },
  {
   "cell_type": "code",
   "execution_count": null,
   "id": "d80272f1-1e7d-429d-9793-df8214cbeb69",
   "metadata": {},
   "outputs": [],
   "source": []
  }
 ],
 "metadata": {
  "kernelspec": {
   "display_name": "Python 3 (ipykernel)",
   "language": "python",
   "name": "python3"
  },
  "language_info": {
   "codemirror_mode": {
    "name": "ipython",
    "version": 3
   },
   "file_extension": ".py",
   "mimetype": "text/x-python",
   "name": "python",
   "nbconvert_exporter": "python",
   "pygments_lexer": "ipython3",
   "version": "3.12.3"
  }
 },
 "nbformat": 4,
 "nbformat_minor": 5
}
