{
 "cells": [
  {
   "cell_type": "code",
   "execution_count": 1,
   "id": "81bbc1b7-9a26-498c-8be5-0284c447890b",
   "metadata": {},
   "outputs": [],
   "source": [
    "from selenium import webdriver\n",
    "\n",
    "import time\n",
    "import os\n",
    "import smtplib\n",
    "from email.mime.text import MIMEText"
   ]
  },
  {
   "cell_type": "code",
   "execution_count": 2,
   "id": "028df0e3-cd38-42d3-88c6-9c1491e10bb9",
   "metadata": {},
   "outputs": [],
   "source": [
    "def get_driver(url: str):\n",
    "    \"\"\"Initialize the chrome driver\"\"\"\n",
    "    options = webdriver.ChromeOptions()\n",
    "    options.add_argument(\"disable-infobars\")\n",
    "    options.add_argument(\"start-maximized\")\n",
    "    options.add_argument(\"disable-dev-shm-usage\")\n",
    "    options.add_argument(\"no-sandbox\")\n",
    "    options.add_experimental_option(\"excludeSwitches\", [\"enable-automation\"])\n",
    "    options.add_argument(\"disable-blank-features = AutomationControlled\")\n",
    "\n",
    "    driver = webdriver.Chrome(options=options)\n",
    "    driver.get(url)\n",
    "    return driver"
   ]
  },
  {
   "cell_type": "code",
   "execution_count": 3,
   "id": "ef4c6c49-e9c5-4faf-bbb1-5552ce9613ed",
   "metadata": {},
   "outputs": [],
   "source": [
    "def clean_text(text: str):\n",
    "    \"\"\"Extract the clean and formatted text\"\"\"\n",
    "    output = float(text.split(\" \")[0])\n",
    "    return output"
   ]
  },
  {
   "cell_type": "code",
   "execution_count": 4,
   "id": "7ee2850c-5dd7-4b9a-b852-2ff700edeab3",
   "metadata": {},
   "outputs": [],
   "source": [
    "def send_email(index, percent):\n",
    "    sender = \"mdummy188@gmail.com\"\n",
    "    password = \"7restuwr#+em\"\n",
    "    \n",
    "    receiver = \"nimatod808@fincainc.com\"\n",
    "\n",
    "    subject = \"Realtime Information of CORBEX.\"\n",
    "    message = f\"\"\"\n",
    "    The index value is: {index}.\n",
    "    The percentage change in the index is {percent}%.\n",
    "    \"\"\"\n",
    "    message = MIMEText(message)\n",
    "    message['From'] = sender\n",
    "    message['To'] = receiver\n",
    "    message['Subject'] = subject\n",
    "\n",
    "    server = smtplib.SMTP('smtp.gmail.com', 587)\n",
    "    server.starttls()\n",
    "    server.login(sender, password)\n",
    "    server.sendmail(sender, receiver, message.as_string())\n",
    "    server.quit()"
   ]
  },
  {
   "cell_type": "code",
   "execution_count": 5,
   "id": "2268491b-1013-4257-a6b5-0fc2af5b5523",
   "metadata": {},
   "outputs": [],
   "source": [
    "def main():\n",
    "    driver = get_driver(\"https://zse.hr/en/indeks-366/365?isin=HRZB00ICBEX6\")\n",
    "    time.sleep(2)\n",
    "\n",
    "    elem1 = driver.find_element(by=\"xpath\", value='//*[@id=\"app_indeks\"]/section[1]/div/div/div[2]/span[1]') # index\n",
    "    elem2 = driver.find_element(by=\"xpath\", value='//*[@id=\"app_indeks\"]/section[1]/div/div/div[2]/span[2]') # percentage\n",
    "    \n",
    "    index = str(elem1.text.strip())\n",
    "    percent = str(clean_text(elem2.text))\n",
    "\n",
    "    subject = \"Realtime Information of CORBEX.\"\n",
    "    message = f\"\"\"\n",
    "    Subject: {subject}\n",
    "\n",
    "    Body:\n",
    "    The index value is: {index}.\n",
    "    The percentage change in the index is {percent}%.\n",
    "    \"\"\"\n",
    "\n",
    "    print(message)\n",
    "\n",
    "    # send_email(index, percent) google has implemented the new OAuth sign-in which does not allow us to login from third-party applications\n",
    "    driver.close()"
   ]
  },
  {
   "cell_type": "code",
   "execution_count": 6,
   "id": "af6e07d4-8ed0-4996-9586-e9e38103b515",
   "metadata": {
    "scrolled": true
   },
   "outputs": [
    {
     "name": "stdout",
     "output_type": "stream",
     "text": [
      "\n",
      "    Subject: Realtime Information of CORBEX.\n",
      "\n",
      "    Body:\n",
      "    The index value is: 2,825.63.\n",
      "    The percentage change in the index is 0.12%.\n",
      "    \n"
     ]
    }
   ],
   "source": [
    "if __name__ == \"__main__\":\n",
    "    main()"
   ]
  },
  {
   "cell_type": "code",
   "execution_count": null,
   "id": "024aba72-5099-4d41-8e8d-8b2ac3b6c410",
   "metadata": {},
   "outputs": [],
   "source": []
  },
  {
   "cell_type": "code",
   "execution_count": 47,
   "id": "24bf5e31-3d67-4f10-b34d-0293ef859573",
   "metadata": {},
   "outputs": [],
   "source": []
  },
  {
   "cell_type": "code",
   "execution_count": null,
   "id": "8348df04-9649-49ba-b54c-90afc25159d1",
   "metadata": {},
   "outputs": [],
   "source": []
  },
  {
   "cell_type": "code",
   "execution_count": null,
   "id": "e56e75e3-a811-416e-a3a1-1901b71dcfab",
   "metadata": {},
   "outputs": [],
   "source": []
  }
 ],
 "metadata": {
  "kernelspec": {
   "display_name": "Python 3 (ipykernel)",
   "language": "python",
   "name": "python3"
  },
  "language_info": {
   "codemirror_mode": {
    "name": "ipython",
    "version": 3
   },
   "file_extension": ".py",
   "mimetype": "text/x-python",
   "name": "python",
   "nbconvert_exporter": "python",
   "pygments_lexer": "ipython3",
   "version": "3.12.2"
  }
 },
 "nbformat": 4,
 "nbformat_minor": 5
}
