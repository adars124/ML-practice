{
 "cells": [
  {
   "cell_type": "markdown",
   "id": "003209b0-b71e-49b3-a10d-4215fbc360b5",
   "metadata": {},
   "source": [
    "### Question 4"
   ]
  },
  {
   "cell_type": "code",
   "execution_count": 13,
   "id": "42a764db-9e06-45cf-892c-82b628847b30",
   "metadata": {},
   "outputs": [
    {
     "name": "stdout",
     "output_type": "stream",
     "text": [
      "The list of movies before update: \n",
      "['Interstellar', 'The Imitation Game', 'Inception', 'Tenet']\n"
     ]
    }
   ],
   "source": [
    "# Create list of movies\n",
    "movies = [\"Interstellar\", \"The Imitation Game\", \"Inception\", \"Tenet\"]\n",
    "\n",
    "# Print movies\n",
    "print(f\"The list of movies before update: \\n{movies}\")"
   ]
  },
  {
   "cell_type": "code",
   "execution_count": 15,
   "id": "c2642e56-8b28-4dd4-9b03-a34749f60a81",
   "metadata": {},
   "outputs": [
    {
     "name": "stdout",
     "output_type": "stream",
     "text": [
      "The list of movies after appending a new movie: \n",
      "['Interstellar', 'The Imitation Game', 'Inception', 'Tenet', 'Forrest Gump', 'Forrest Gump']\n"
     ]
    }
   ],
   "source": [
    "# Append a new movie to the list\n",
    "movies.append(\"Forrest Gump\")\n",
    "\n",
    "# Print the updated list\n",
    "print(f\"The list of movies after appending a new movie: \\n{movies}\")"
   ]
  },
  {
   "cell_type": "markdown",
   "id": "185c56b5-4eb8-49b3-aa85-b1085e60445e",
   "metadata": {},
   "source": [
    "### Question 5"
   ]
  },
  {
   "cell_type": "code",
   "execution_count": 18,
   "id": "dc999a30-b504-4476-8d55-8aa7fcdd7e54",
   "metadata": {},
   "outputs": [
    {
     "name": "stdout",
     "output_type": "stream",
     "text": [
      "Original list: \n",
      "[1, 2, 3, 4, 5, 6, 7, 8, 9, 10]\n"
     ]
    }
   ],
   "source": [
    "# Creating the list of integers from 1 to 10\n",
    "nums = [i for i in range(1, 11)]\n",
    "\n",
    "# Print the list\n",
    "print(f\"Original list: \\n{nums}\")"
   ]
  },
  {
   "cell_type": "code",
   "execution_count": 19,
   "id": "199bb6ca-c9a6-44a3-b0a6-ce773994a0fa",
   "metadata": {},
   "outputs": [
    {
     "name": "stdout",
     "output_type": "stream",
     "text": [
      "The result is: 55\n"
     ]
    }
   ],
   "source": [
    "# Calculate the sum of all the list elements\n",
    "sum = 0\n",
    "for elem in nums:\n",
    "    sum = sum + elem\n",
    "\n",
    "# Print the result\n",
    "print(f\"The result is: {sum}\")"
   ]
  },
  {
   "cell_type": "markdown",
   "id": "29401e64-c301-402a-8461-391829c82fe8",
   "metadata": {},
   "source": [
    "### Question 6"
   ]
  },
  {
   "cell_type": "code",
   "execution_count": 21,
   "id": "dee32ede-7d19-4ea8-9b76-a5453e4cf7b8",
   "metadata": {},
   "outputs": [
    {
     "name": "stdout",
     "output_type": "stream",
     "text": [
      "Original List: ['Ram', 18, 20000.57]\n"
     ]
    }
   ],
   "source": [
    "# Creating a mixed list (heterogenous)\n",
    "mixed_list = [\"Ram\", 18, 20000.57]\n",
    "\n",
    "# Print the list\n",
    "print(f\"Original List: {mixed_list}\")"
   ]
  },
  {
   "cell_type": "code",
   "execution_count": 22,
   "id": "f32d7747-8896-462a-86d5-672514313a57",
   "metadata": {},
   "outputs": [
    {
     "name": "stdout",
     "output_type": "stream",
     "text": [
      "The modified list: [18, 20000.57]\n"
     ]
    }
   ],
   "source": [
    "# Remove the first element from the list\n",
    "mixed_list.pop(0)\n",
    "\n",
    "# Print the modified list\n",
    "print(f\"The modified list: {mixed_list}\")"
   ]
  },
  {
   "cell_type": "markdown",
   "id": "813c5d99-dc85-40b6-82ee-5874b3a1a3fe",
   "metadata": {},
   "source": [
    "### Question 7"
   ]
  },
  {
   "cell_type": "code",
   "execution_count": 23,
   "id": "955c63d0-81a2-46db-a1e4-97d58b38ceb7",
   "metadata": {},
   "outputs": [
    {
     "name": "stdout",
     "output_type": "stream",
     "text": [
      "The tuple is: ('Sunday', 'Monday', 'Tuesday', 'Wednesday', 'Thursday', 'Friday', 'Saturday')\n"
     ]
    }
   ],
   "source": [
    "# Create the tuple containing the names of the days of a week\n",
    "days = (\"Sunday\", \"Monday\", \"Tuesday\", \"Wednesday\", \"Thursday\", \"Friday\", \"Saturday\")\n",
    "\n",
    "# Print the tuple\n",
    "print(f\"The tuple is: {days}\")"
   ]
  },
  {
   "cell_type": "code",
   "execution_count": 24,
   "id": "6ac2c676-00b7-4563-9b51-2cd9e39eb0af",
   "metadata": {},
   "outputs": [
    {
     "name": "stdout",
     "output_type": "stream",
     "text": [
      "The third day is: Tuesday\n"
     ]
    }
   ],
   "source": [
    "# Access the third day\n",
    "third_day = days[2]\n",
    "\n",
    "# Print the third day\n",
    "print(f\"The third day is: {third_day}\")"
   ]
  },
  {
   "cell_type": "markdown",
   "id": "fd808282-996a-4182-87f5-35cdd33bc721",
   "metadata": {},
   "source": [
    "### Question 8"
   ]
  },
  {
   "cell_type": "code",
   "execution_count": 25,
   "id": "0b883fd2-81a2-43f2-8938-d8c5b3cd5036",
   "metadata": {},
   "outputs": [
    {
     "name": "stdout",
     "output_type": "stream",
     "text": [
      "The list of colors are: ('Blue', 'Orange', 'Black', 'Purple', 'Violet', 'White')\n"
     ]
    }
   ],
   "source": [
    "# Create a tuple containing the name of colors\n",
    "colors = (\"Blue\", \"Orange\", \"Black\", \"Purple\", \"Violet\", \"White\")\n",
    "\n",
    "# Print the tuple\n",
    "print(f\"The list of colors are: {colors}\")"
   ]
  },
  {
   "cell_type": "code",
   "execution_count": 29,
   "id": "e52591e1-159c-4eb1-a512-55864948b792",
   "metadata": {},
   "outputs": [
    {
     "name": "stdin",
     "output_type": "stream",
     "text": [
      "Enter your color:  black\n"
     ]
    },
    {
     "name": "stdout",
     "output_type": "stream",
     "text": [
      "Black is present in the list.\n"
     ]
    }
   ],
   "source": [
    "# Choose a color from input\n",
    "query = input(\"Enter your color: \")\n",
    "\n",
    "# Check if the color is available in the tuple\n",
    "if query.title() in colors:\n",
    "    print(f\"{query.title()} is present in the list.\")\n",
    "else:\n",
    "    print(f\"{query} is not present in the list.\")"
   ]
  },
  {
   "cell_type": "markdown",
   "id": "ad220d3e-b936-487d-bfb7-b18eaae48c81",
   "metadata": {},
   "source": [
    "### Question 9"
   ]
  },
  {
   "cell_type": "code",
   "execution_count": 31,
   "id": "9ffda9be-49bc-4bf8-966d-95e46b5c948d",
   "metadata": {},
   "outputs": [
    {
     "name": "stdout",
     "output_type": "stream",
     "text": [
      "Book information: \n",
      "{'title': 'The Tao of Physics', 'author': 'Fritjof Capra', 'year': 2002}\n"
     ]
    }
   ],
   "source": [
    "# Create a dictionary representing book informaiton\n",
    "book_info = {\n",
    "    \"title\": \"The Tao of Physics\",\n",
    "    \"author\": \"Fritjof Capra\",\n",
    "    \"year\": 2002\n",
    "}\n",
    "\n",
    "# Print the book information\n",
    "print(f\"Book information: \\n{book_info}\")"
   ]
  },
  {
   "cell_type": "code",
   "execution_count": 32,
   "id": "1b764f92-2f5c-4a06-90d7-bfeca1009429",
   "metadata": {},
   "outputs": [
    {
     "name": "stdout",
     "output_type": "stream",
     "text": [
      "The updated book information: \n",
      "{'title': 'The Tao of Physics', 'author': 'Fritjof Capra', 'year': 1975}\n"
     ]
    }
   ],
   "source": [
    "# Update the year of the book\n",
    "book_info['year'] = 1975\n",
    "\n",
    "# Print the updated list\n",
    "print(f\"The updated book information: \\n{book_info}\")"
   ]
  },
  {
   "cell_type": "markdown",
   "id": "7fd40723-cb94-4e42-acd5-8f531a8899d6",
   "metadata": {},
   "source": [
    "### Questiton 10"
   ]
  },
  {
   "cell_type": "code",
   "execution_count": 33,
   "id": "8ae5991b-3f61-4c7a-bcf9-718f07db54cb",
   "metadata": {},
   "outputs": [
    {
     "name": "stdout",
     "output_type": "stream",
     "text": [
      "The fruits dictionary is: \n",
      "{'apple': 'red', 'banana': 'green', 'mango': 'yellow'}\n"
     ]
    }
   ],
   "source": [
    "# Create the fruits dictionary\n",
    "fruits = {\n",
    "    \"apple\": \"red\",\n",
    "    \"banana\": \"green\",\n",
    "    \"mango\": \"yellow\"\n",
    "}\n",
    "\n",
    "# Print the dictionary\n",
    "print(f\"The fruits dictionary is: \\n{fruits}\")"
   ]
  },
  {
   "cell_type": "code",
   "execution_count": 34,
   "id": "8af1ad82-f62c-4b3b-867e-6a25f2498abd",
   "metadata": {},
   "outputs": [],
   "source": [
    "# Add a new fruit-color pair to the dictionary\n",
    "fruits['tangerine'] = \"orange\""
   ]
  },
  {
   "cell_type": "code",
   "execution_count": 35,
   "id": "4954ee23-65b4-4389-b7c3-28190ea9c565",
   "metadata": {},
   "outputs": [
    {
     "name": "stdout",
     "output_type": "stream",
     "text": [
      "The updated dictionary is: \n",
      "{'apple': 'red', 'banana': 'green', 'mango': 'yellow', 'tangerine': 'orange'}\n"
     ]
    }
   ],
   "source": [
    "# Print the updated dictionary\n",
    "print(f\"The updated dictionary is: \\n{fruits}\")"
   ]
  },
  {
   "cell_type": "markdown",
   "id": "9813ea35-0753-4ed7-86f4-43001f81e86e",
   "metadata": {},
   "source": [
    "### Question 11"
   ]
  },
  {
   "cell_type": "code",
   "execution_count": 41,
   "id": "810ba447-9d5c-4827-b760-3ab55a2323a1",
   "metadata": {},
   "outputs": [
    {
     "name": "stdout",
     "output_type": "stream",
     "text": [
      "Original informaiton:\n",
      "{'New York': 8804190, 'Los Angeles': 3898747, 'Chicago': 2746388, 'Houston': 2304580}\n"
     ]
    }
   ],
   "source": [
    "# Creating a dictionary representing the population of differnet cities\n",
    "cities = {\n",
    "    \"New York\": 8_804_190,\n",
    "    \"Los Angeles\": 3_898_747,\n",
    "    \"Chicago\": 2_746_388,\n",
    "    \"Houston\": 2_304_580,\n",
    "}\n",
    "\n",
    "# Print the demographic information of each city\n",
    "print(f\"Original informaiton:\\n{cities}\")"
   ]
  },
  {
   "cell_type": "code",
   "execution_count": 42,
   "id": "6f50aa83-a06a-4997-a38a-3c54677fa887",
   "metadata": {},
   "outputs": [
    {
     "data": {
      "text/plain": [
       "2304580"
      ]
     },
     "execution_count": 42,
     "metadata": {},
     "output_type": "execute_result"
    }
   ],
   "source": [
    "# Remove a city from the dictionary\n",
    "# Approach: 1\n",
    "cities.pop('Houston')"
   ]
  },
  {
   "cell_type": "code",
   "execution_count": 43,
   "id": "dcda4047-a744-4ce3-b7ff-af551ffb8e9c",
   "metadata": {},
   "outputs": [],
   "source": [
    "# Approach: 2\n",
    "del cities['Chicago']"
   ]
  },
  {
   "cell_type": "code",
   "execution_count": 44,
   "id": "e2f6b281-a227-467a-8038-debee858c86d",
   "metadata": {},
   "outputs": [
    {
     "name": "stdout",
     "output_type": "stream",
     "text": [
      "The updated dictionary is:\n",
      "{'New York': 8804190, 'Los Angeles': 3898747}\n"
     ]
    }
   ],
   "source": [
    "# Print the modified dictionary\n",
    "print(f\"The updated dictionary is:\\n{cities}\")"
   ]
  },
  {
   "cell_type": "code",
   "execution_count": null,
   "id": "9e0e8f6f-f5fd-4459-8fd1-9c7e3c0900fd",
   "metadata": {},
   "outputs": [],
   "source": []
  }
 ],
 "metadata": {
  "kernelspec": {
   "display_name": "Python 3 (ipykernel)",
   "language": "python",
   "name": "python3"
  },
  "language_info": {
   "codemirror_mode": {
    "name": "ipython",
    "version": 3
   },
   "file_extension": ".py",
   "mimetype": "text/x-python",
   "name": "python",
   "nbconvert_exporter": "python",
   "pygments_lexer": "ipython3",
   "version": "3.12.2"
  }
 },
 "nbformat": 4,
 "nbformat_minor": 5
}
