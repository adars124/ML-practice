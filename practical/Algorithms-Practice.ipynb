{
 "cells": [
  {
   "cell_type": "markdown",
   "id": "7b25656e-4dda-4e9f-afd1-e63aa40ace3c",
   "metadata": {},
   "source": [
    "### Algorithms Practice"
   ]
  },
  {
   "cell_type": "code",
   "execution_count": 1,
   "id": "28d34568-a6d2-45b5-86de-6dadd4f87e5e",
   "metadata": {},
   "outputs": [],
   "source": [
    "import matplotlib.pyplot as plt\n",
    "from sklearn.datasets import make_regression\n",
    "import numpy as np\n",
    "from sklearn.metrics import accuracy_score"
   ]
  },
  {
   "cell_type": "code",
   "execution_count": 18,
   "id": "49e5536b-6742-4272-b619-3f0d64241bd4",
   "metadata": {},
   "outputs": [],
   "source": [
    "input_, target_ = make_regression(n_samples=500, n_features=1, n_informative=3, n_targets=1)"
   ]
  },
  {
   "cell_type": "code",
   "execution_count": 19,
   "id": "464e8efd-f142-4fba-995a-7fa7452e8e62",
   "metadata": {},
   "outputs": [
    {
     "data": {
      "image/png": "[encoded data removed]",
      "text/plain": [
       "<Figure size 600x600 with 1 Axes>"
      ]
     },
     "metadata": {},
     "output_type": "display_data"
    }
   ],
   "source": [
    "plt.figure(figsize=(6, 6))\n",
    "plt.scatter(input_, target_)\n",
    "plt.xlabel('Inputs')\n",
    "plt.ylabel('Outputs')\n",
    "plt.title('Inputs vs. Outputs')\n",
    "plt.show()"
   ]
  },
  {
   "cell_type": "code",
   "execution_count": 20,
   "id": "65e496c2-f525-45a5-b528-24ca3bb43bb7",
   "metadata": {},
   "outputs": [],
   "source": [
    "from sklearn.model_selection import train_test_split"
   ]
  },
  {
   "cell_type": "code",
   "execution_count": 21,
   "id": "1ac9beb6-f913-4160-a37a-d90cbc16f069",
   "metadata": {},
   "outputs": [],
   "source": [
    "train_input, test_input, train_target, test_target = train_test_split(input_, target_, test_size=0.2, random_state=42)"
   ]
  },
  {
   "cell_type": "code",
   "execution_count": 22,
   "id": "5104c5ad-ac79-4573-bf13-571d0c080244",
   "metadata": {},
   "outputs": [
    {
     "data": {
      "text/plain": [
       "(400, 1)"
      ]
     },
     "execution_count": 22,
     "metadata": {},
     "output_type": "execute_result"
    }
   ],
   "source": [
    "train_input.shape"
   ]
  },
  {
   "cell_type": "code",
   "execution_count": 23,
   "id": "01d793ac-0499-4bda-8e4a-8a3caabb7c2f",
   "metadata": {},
   "outputs": [
    {
     "data": {
      "text/plain": [
       "(100, 1)"
      ]
     },
     "execution_count": 23,
     "metadata": {},
     "output_type": "execute_result"
    }
   ],
   "source": [
    "test_input.shape"
   ]
  },
  {
   "cell_type": "code",
   "execution_count": 24,
   "id": "dfe45af4-2bc9-44be-b0fa-b2fd8eed5a59",
   "metadata": {},
   "outputs": [
    {
     "data": {
      "text/plain": [
       "(400,)"
      ]
     },
     "execution_count": 24,
     "metadata": {},
     "output_type": "execute_result"
    }
   ],
   "source": [
    "train_target.shape"
   ]
  },
  {
   "cell_type": "code",
   "execution_count": 25,
   "id": "a6c8fa0f-c50e-4f7b-9dac-939d34f85818",
   "metadata": {},
   "outputs": [],
   "source": [
    "from sklearn.linear_model import LinearRegression"
   ]
  },
  {
   "cell_type": "code",
   "execution_count": 26,
   "id": "db4be97b-6382-490a-8fd8-1c7c704c2df7",
   "metadata": {},
   "outputs": [],
   "source": [
    "lr = LinearRegression()\n",
    "lr.fit(train_input, train_target)\n",
    "test_predicted = lr.predict(test_input)"
   ]
  },
  {
   "cell_type": "code",
   "execution_count": 27,
   "id": "2c649739-b406-44fa-abc4-821a7ab3ea9f",
   "metadata": {},
   "outputs": [
    {
     "data": {
      "text/plain": [
       "array([ -1.36013638,  -2.85796422,  31.81987427, -28.07177884,\n",
       "         1.7641085 , -12.114813  ,  37.04386379, -13.92444744,\n",
       "       -42.68142127,  66.52441645, -35.67453431,  10.57282091,\n",
       "       -16.56405295,  17.81805497, -16.57340372,   5.15081665,\n",
       "       -30.69924316, -33.02661121, -11.09806764,  19.03947006,\n",
       "       -35.99061269, -27.26873637,   8.99042409, -15.31877403,\n",
       "       -25.048465  , -30.23395327,  -0.19465904,  12.9447952 ,\n",
       "        30.12062385,   5.87445958,   9.18404708,  17.09078908,\n",
       "        30.96435653,   8.67791623, -18.93762424, -14.99014255,\n",
       "         4.7166604 ,  24.49580956,  33.98948728,  -9.33681554,\n",
       "        10.32764097,   4.98546249,  25.29157905,  -8.65612848,\n",
       "        22.53755552,  16.92457409,  -7.67372028,   7.8328224 ,\n",
       "        30.06118334, -37.93631671,  13.97256414, -11.74269751,\n",
       "        19.45323442,  31.72953302,  40.22052745,   7.82052604,\n",
       "       -38.08624697,  18.9918745 ,  12.78544797,  37.68453074,\n",
       "       -14.415717  , -34.56314551,  25.34563095, -10.2088959 ,\n",
       "         9.23210194, -25.05395147,  -2.75752616,  30.9303796 ,\n",
       "       -51.46269614, -22.05383891,  13.82837241,  20.16293063,\n",
       "       -16.41539609, -19.34757507,  -8.91964463,   7.71586449,\n",
       "        12.51639033, -15.88502966,   5.61129448,  -7.20624757,\n",
       "       -29.32174875,   2.33533289,  24.55055096, -30.45666165,\n",
       "        -6.82621861,  -3.96902934,  -5.31077151,  14.14935338,\n",
       "       -17.18186686,  47.30219311,  -4.19469133,  20.4989383 ,\n",
       "        -9.20308608, -53.74207626,   9.34460155,  49.56755066,\n",
       "       -26.4575454 ,  66.08158511,  11.22203178,  31.26809281])"
      ]
     },
     "execution_count": 27,
     "metadata": {},
     "output_type": "execute_result"
    }
   ],
   "source": [
    "test_predicted"
   ]
  },
  {
   "cell_type": "code",
   "execution_count": 28,
   "id": "0cf45056-63f6-4c2d-8486-14fab1a8cdc4",
   "metadata": {},
   "outputs": [],
   "source": [
    "# accuracy = accuracy_score(test_target, test_predicted)"
   ]
  },
  {
   "cell_type": "code",
   "execution_count": 29,
   "id": "c53cda91-8923-4662-9c0a-cfba49bb1d76",
   "metadata": {},
   "outputs": [],
   "source": [
    "correct = 0\n",
    "for i in range(len(test_predicted)):\n",
    "    if test_predicted[i] == test_target[i]:\n",
    "        correct += 1"
   ]
  },
  {
   "cell_type": "code",
   "execution_count": 30,
   "id": "39850e44-59a7-4561-8151-1b26014eeb78",
   "metadata": {},
   "outputs": [],
   "source": [
    "acc = (correct / len(test_target)) * 100"
   ]
  },
  {
   "cell_type": "code",
   "execution_count": 31,
   "id": "0100d094-9894-4b9c-85ab-168c073cd684",
   "metadata": {},
   "outputs": [
    {
     "data": {
      "text/plain": [
       "93.0"
      ]
     },
     "execution_count": 31,
     "metadata": {},
     "output_type": "execute_result"
    }
   ],
   "source": [
    "acc"
   ]
  },
  {
   "cell_type": "code",
   "execution_count": null,
   "id": "34bf41a6-732d-47f4-9696-2328062165fd",
   "metadata": {},
   "outputs": [],
   "source": []
  }
 ],
 "metadata": {
  "kernelspec": {
   "display_name": "Python 3 (ipykernel)",
   "language": "python",
   "name": "python3"
  },
  "language_info": {
   "codemirror_mode": {
    "name": "ipython",
    "version": 3
   },
   "file_extension": ".py",
   "mimetype": "text/x-python",
   "name": "python",
   "nbconvert_exporter": "python",
   "pygments_lexer": "ipython3",
   "version": "3.12.3"
  }
 },
 "nbformat": 4,
 "nbformat_minor": 5
}
