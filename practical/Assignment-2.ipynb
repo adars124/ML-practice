{
 "cells": [
  {
   "cell_type": "markdown",
   "id": "559642a5-12c2-4ca7-8ad9-877b18ddf30b",
   "metadata": {},
   "source": [
    "### 1) Array Creation"
   ]
  },
  {
   "cell_type": "code",
   "execution_count": 2,
   "id": "4d2a6d15-dcd1-4832-a88e-5d6bbea64d46",
   "metadata": {},
   "outputs": [],
   "source": [
    "import numpy as np"
   ]
  },
  {
   "cell_type": "code",
   "execution_count": 47,
   "id": "08ee9391-8be9-4475-9e2e-7872240ccbcb",
   "metadata": {},
   "outputs": [
    {
     "data": {
      "text/plain": [
       "(array([ 1,  2,  3,  4,  5,  6,  7,  8,  9, 10]), 'Dimension: 1')"
      ]
     },
     "execution_count": 47,
     "metadata": {},
     "output_type": "execute_result"
    }
   ],
   "source": [
    "# Create a 1d array of integers from 1 to 10\n",
    "arr1 = np.arange(1, 11)\n",
    "\n",
    "arr1, f\"Dimension: {arr1.ndim}\""
   ]
  },
  {
   "cell_type": "code",
   "execution_count": 4,
   "id": "f78e9be9-4c4c-455c-bebc-dcca059f776a",
   "metadata": {},
   "outputs": [
    {
     "data": {
      "text/plain": [
       "(array([[0.55346363, 0.82714183, 0.56815566, 0.33814986],\n",
       "        [0.2558847 , 0.79485646, 0.05596673, 0.10007398],\n",
       "        [0.31999841, 0.74232809, 0.84324837, 0.20634267]]),\n",
       " 'Dimension: 2')"
      ]
     },
     "execution_count": 4,
     "metadata": {},
     "output_type": "execute_result"
    }
   ],
   "source": [
    "# Create a 2d array with random float values of shape (3, 4) = (rows, cols)\n",
    "arr2 = np.random.rand(3, 4)\n",
    "\n",
    "arr2, f\"Dimension: {arr2.ndim}\""
   ]
  },
  {
   "cell_type": "code",
   "execution_count": 6,
   "id": "71b64986-774d-428a-93b6-a68599556dbf",
   "metadata": {},
   "outputs": [
    {
     "data": {
      "text/plain": [
       "(array([[[0., 0., 0., 0.],\n",
       "         [0., 0., 0., 0.],\n",
       "         [0., 0., 0., 0.]],\n",
       " \n",
       "        [[0., 0., 0., 0.],\n",
       "         [0., 0., 0., 0.],\n",
       "         [0., 0., 0., 0.]]]),\n",
       " 'Dimension: 3')"
      ]
     },
     "execution_count": 6,
     "metadata": {},
     "output_type": "execute_result"
    }
   ],
   "source": [
    "# Create a 3d array of zeroes with shape (2, 3, 4) = (blocks, rows, cols)\n",
    "arr3 = np.zeros((2, 3, 4)) # In this case, two blocks (or layers), each containing a 3x4 matrix\n",
    "\n",
    "arr3, f\"Dimension: {arr3.ndim}\""
   ]
  },
  {
   "cell_type": "markdown",
   "id": "d9edb14e-2cf3-41ce-b29f-a722b6d0c36c",
   "metadata": {},
   "source": [
    "### 2) Array Operations"
   ]
  },
  {
   "cell_type": "code",
   "execution_count": 14,
   "id": "e19edcbe-43cf-4566-8ed4-4c1d299a6ca8",
   "metadata": {},
   "outputs": [],
   "source": [
    "# Define the arrays\n",
    "arr_a = np.array([2, 4, 6, 8])\n",
    "arr_b = np.array([1, 3, 5, 7])"
   ]
  },
  {
   "cell_type": "code",
   "execution_count": 26,
   "id": "8994e748-a303-43e9-b91b-d040a9ec489d",
   "metadata": {},
   "outputs": [
    {
     "data": {
      "text/plain": [
       "(array([ 3,  7, 11, 15]), array([ 3,  7, 11, 15]))"
      ]
     },
     "execution_count": 26,
     "metadata": {},
     "output_type": "execute_result"
    }
   ],
   "source": [
    "# Addition\n",
    "arr_a + arr_b, np.add(arr_a, arr_b)"
   ]
  },
  {
   "cell_type": "code",
   "execution_count": 28,
   "id": "709a384c-49a4-410d-b92f-c0057a0b8565",
   "metadata": {},
   "outputs": [
    {
     "data": {
      "text/plain": [
       "(array([1, 1, 1, 1]), array([1, 1, 1, 1]))"
      ]
     },
     "execution_count": 28,
     "metadata": {},
     "output_type": "execute_result"
    }
   ],
   "source": [
    "# Subtraction\n",
    "arr_a - arr_b, np.subtract(arr_a, arr_b)"
   ]
  },
  {
   "cell_type": "code",
   "execution_count": 29,
   "id": "82aa884b-eaad-4cb9-8075-868f297b861e",
   "metadata": {},
   "outputs": [
    {
     "data": {
      "text/plain": [
       "(array([ 2, 12, 30, 56]), array([ 2, 12, 30, 56]))"
      ]
     },
     "execution_count": 29,
     "metadata": {},
     "output_type": "execute_result"
    }
   ],
   "source": [
    "# Multiplication\n",
    "arr_a * arr_b, np.multiply(arr_a, arr_b)"
   ]
  },
  {
   "cell_type": "code",
   "execution_count": 30,
   "id": "66e27d5e-a413-49ab-873a-0d11ff80f4c2",
   "metadata": {},
   "outputs": [
    {
     "data": {
      "text/plain": [
       "(array([2.        , 1.33333333, 1.2       , 1.14285714]),\n",
       " array([2.        , 1.33333333, 1.2       , 1.14285714]))"
      ]
     },
     "execution_count": 30,
     "metadata": {},
     "output_type": "execute_result"
    }
   ],
   "source": [
    "# Division\n",
    "arr_a / arr_b, np.divide(arr_a, arr_b)"
   ]
  },
  {
   "cell_type": "code",
   "execution_count": 21,
   "id": "e1ee9f84-86a1-4d7a-9f33-be6046ef3412",
   "metadata": {},
   "outputs": [
    {
     "data": {
      "text/plain": [
       "5.0"
      ]
     },
     "execution_count": 21,
     "metadata": {},
     "output_type": "execute_result"
    }
   ],
   "source": [
    "# Mean\n",
    "np.mean(arr_a)"
   ]
  },
  {
   "cell_type": "code",
   "execution_count": 23,
   "id": "8efa576d-8ecc-41d4-9ab9-870206f88a6e",
   "metadata": {},
   "outputs": [
    {
     "data": {
      "text/plain": [
       "4.0"
      ]
     },
     "execution_count": 23,
     "metadata": {},
     "output_type": "execute_result"
    }
   ],
   "source": [
    "# Median\n",
    "np.median(arr_b)"
   ]
  },
  {
   "cell_type": "code",
   "execution_count": 25,
   "id": "9710a2ec-9432-43cc-b718-2cbeb7f88e8c",
   "metadata": {},
   "outputs": [
    {
     "data": {
      "text/plain": [
       "2.23606797749979"
      ]
     },
     "execution_count": 25,
     "metadata": {},
     "output_type": "execute_result"
    }
   ],
   "source": [
    "# Standard Deviation\n",
    "np.std(arr_a)"
   ]
  },
  {
   "cell_type": "code",
   "execution_count": 38,
   "id": "8c5aca6f-3fbc-4a92-b66f-4fbae1fe240e",
   "metadata": {},
   "outputs": [],
   "source": [
    "arr_x = np.array([i for i in range(1, 13)])\n",
    "np.random.shuffle(arr_x)"
   ]
  },
  {
   "cell_type": "code",
   "execution_count": 42,
   "id": "758ecfee-80be-4dd3-bb13-09b0ae827393",
   "metadata": {},
   "outputs": [
    {
     "data": {
      "text/plain": [
       "(array([[11,  5, 10,  8],\n",
       "        [ 6,  7,  3,  9],\n",
       "        [12,  1,  2,  4]]),\n",
       " array([[11,  5, 10,  8],\n",
       "        [ 6,  7,  3,  9],\n",
       "        [12,  1,  2,  4]]))"
      ]
     },
     "execution_count": 42,
     "metadata": {},
     "output_type": "execute_result"
    }
   ],
   "source": [
    "# Reshape the array into a 2d array of shape (3, 4)\n",
    "assert np.array_equal(arr_x.reshape(3, -1), arr_x.reshape(3, 4))\n",
    "arr_x.reshape(3, -1), arr_x.reshape(3, 4)"
   ]
  },
  {
   "cell_type": "markdown",
   "id": "3d44109d-c488-411a-ac12-ebbe6c737542",
   "metadata": {},
   "source": [
    "### 3) Array Indexing and Slicing"
   ]
  },
  {
   "cell_type": "code",
   "execution_count": 54,
   "id": "4f42c85f-b92a-4f14-8f2d-8c34db34ed3f",
   "metadata": {},
   "outputs": [
    {
     "data": {
      "text/plain": [
       "array([[ 2,  8,  2,  2],\n",
       "       [ 6,  5, 14,  2],\n",
       "       [16, 17,  2, 16]])"
      ]
     },
     "execution_count": 54,
     "metadata": {},
     "output_type": "execute_result"
    }
   ],
   "source": [
    "# Define a 2d array\n",
    "arr_1 = np.random.randint(2, 20, size=(3, 4))\n",
    "arr_1"
   ]
  },
  {
   "cell_type": "code",
   "execution_count": 57,
   "id": "ec7f2dff-0728-4edf-8c92-02f9ae0d285b",
   "metadata": {},
   "outputs": [
    {
     "data": {
      "text/plain": [
       "array([[2, 8, 2, 2]])"
      ]
     },
     "execution_count": 57,
     "metadata": {},
     "output_type": "execute_result"
    }
   ],
   "source": [
    "# First row\n",
    "arr_1[:1, :]"
   ]
  },
  {
   "cell_type": "code",
   "execution_count": 58,
   "id": "aa0446b1-06be-4c4c-b645-c84608033eb8",
   "metadata": {},
   "outputs": [
    {
     "data": {
      "text/plain": [
       "array([ 2,  2, 16])"
      ]
     },
     "execution_count": 58,
     "metadata": {},
     "output_type": "execute_result"
    }
   ],
   "source": [
    "# Last Column\n",
    "arr_1[:, -1]"
   ]
  },
  {
   "cell_type": "code",
   "execution_count": 63,
   "id": "109d44ea-9422-4ecd-a3dd-2f72ca9062c6",
   "metadata": {},
   "outputs": [
    {
     "data": {
      "text/plain": [
       "array([8, 6, 4, 2])"
      ]
     },
     "execution_count": 63,
     "metadata": {},
     "output_type": "execute_result"
    }
   ],
   "source": [
    "# Reversed array\n",
    "arr_a[::-1]"
   ]
  },
  {
   "cell_type": "code",
   "execution_count": 67,
   "id": "2db01200-704b-4606-866b-05bef595763d",
   "metadata": {},
   "outputs": [
    {
     "data": {
      "text/plain": [
       "array([ 8, 14, 16, 17, 16])"
      ]
     },
     "execution_count": 67,
     "metadata": {},
     "output_type": "execute_result"
    }
   ],
   "source": [
    "# Boolean Indexing\n",
    "condition = arr_1 > 7\n",
    "arr_1[condition]"
   ]
  },
  {
   "cell_type": "markdown",
   "id": "5ba0bf2b-ef5d-4551-b256-f07c22a5dba1",
   "metadata": {},
   "source": [
    "### 4) Array Broadcasting"
   ]
  },
  {
   "cell_type": "code",
   "execution_count": 71,
   "id": "5c6830b2-a459-4bf5-821b-dab6f37a4d52",
   "metadata": {},
   "outputs": [],
   "source": [
    "# Create a 1D array\n",
    "arr1d = np.array([1, 2, 3])"
   ]
  },
  {
   "cell_type": "code",
   "execution_count": 72,
   "id": "110424b5-49b1-45df-9b28-965706339890",
   "metadata": {},
   "outputs": [],
   "source": [
    "# Create a 2D array\n",
    "arr2d = np.array([[4, 5, 6],\n",
    "                  [7, 8, 9]])"
   ]
  },
  {
   "cell_type": "code",
   "execution_count": 73,
   "id": "a74afb85-a7a8-447a-ba54-ca2f476f5a66",
   "metadata": {},
   "outputs": [
    {
     "data": {
      "text/plain": [
       "array([[11, 12, 13],\n",
       "       [14, 15, 16]])"
      ]
     },
     "execution_count": 73,
     "metadata": {},
     "output_type": "execute_result"
    }
   ],
   "source": [
    "# Adding a scalar value to a 2d array\n",
    "arr2d + 7"
   ]
  },
  {
   "cell_type": "code",
   "execution_count": 79,
   "id": "42b80a09-2bfb-4452-9e48-ae52edcc4791",
   "metadata": {},
   "outputs": [
    {
     "data": {
      "text/plain": [
       "array([[ 4, 10, 18],\n",
       "       [ 7, 16, 27]])"
      ]
     },
     "execution_count": 79,
     "metadata": {},
     "output_type": "execute_result"
    }
   ],
   "source": [
    "# Multiply the arrays\n",
    "arr1d * arr2d"
   ]
  },
  {
   "cell_type": "markdown",
   "id": "c61211ad-6785-4d47-b6de-dc99221f13d1",
   "metadata": {},
   "source": [
    "### 5) Linear Algebra"
   ]
  },
  {
   "cell_type": "code",
   "execution_count": 85,
   "id": "9fd5b5c4-ecf5-44a2-89d4-872570114da6",
   "metadata": {},
   "outputs": [
    {
     "data": {
      "text/plain": [
       "(array([2, 4, 6, 8]), array([1, 3, 5, 7]))"
      ]
     },
     "execution_count": 85,
     "metadata": {},
     "output_type": "execute_result"
    }
   ],
   "source": [
    "# 1d Arrays\n",
    "arr_a, arr_b"
   ]
  },
  {
   "cell_type": "code",
   "execution_count": 86,
   "id": "901d39ac-5e00-46db-abbf-659abf0cbb56",
   "metadata": {},
   "outputs": [
    {
     "data": {
      "text/plain": [
       "(100, 100)"
      ]
     },
     "execution_count": 86,
     "metadata": {},
     "output_type": "execute_result"
    }
   ],
   "source": [
    "arr_a.dot(arr_b), np.dot(arr_a, arr_b)"
   ]
  },
  {
   "cell_type": "code",
   "execution_count": 99,
   "id": "085cbc96-b923-4942-bdd6-7507e0c22570",
   "metadata": {},
   "outputs": [
    {
     "data": {
      "text/plain": [
       "(array([[ 2,  8,  2,  2],\n",
       "        [ 6,  5, 14,  2],\n",
       "        [16, 17,  2, 16]]),\n",
       " array([[11,  6, 12],\n",
       "        [ 5,  7,  1],\n",
       "        [10,  3,  2],\n",
       "        [ 8,  9,  4]]))"
      ]
     },
     "execution_count": 99,
     "metadata": {},
     "output_type": "execute_result"
    }
   ],
   "source": [
    "# 2d Arrays\n",
    "arr_2x = arr_x.reshape(3, -1).T\n",
    "arr_1, arr_2x"
   ]
  },
  {
   "cell_type": "code",
   "execution_count": 100,
   "id": "37995bb6-f2c5-4231-a757-25afe7a59c47",
   "metadata": {},
   "outputs": [
    {
     "data": {
      "text/plain": [
       "array([[ 98,  92,  44],\n",
       "       [247, 131, 113],\n",
       "       [409, 365, 277]])"
      ]
     },
     "execution_count": 100,
     "metadata": {},
     "output_type": "execute_result"
    }
   ],
   "source": [
    "# Matrix multiplication\n",
    "np.matmul(arr_1, arr_2x)"
   ]
  },
  {
   "cell_type": "code",
   "execution_count": 104,
   "id": "d30eecf3-2a88-4f54-b016-ef84c0b4dbce",
   "metadata": {},
   "outputs": [],
   "source": [
    "# Create a square matrix\n",
    "A = np.array([[7, 9],\n",
    "              [6, 4]])"
   ]
  },
  {
   "cell_type": "code",
   "execution_count": 105,
   "id": "004e50ba-d7b6-48dd-856b-9678f2cb240c",
   "metadata": {},
   "outputs": [
    {
     "data": {
      "text/plain": [
       "array([[-0.15384615,  0.34615385],\n",
       "       [ 0.23076923, -0.26923077]])"
      ]
     },
     "execution_count": 105,
     "metadata": {},
     "output_type": "execute_result"
    }
   ],
   "source": [
    "# Inverse of A\n",
    "inv_A = np.linalg.inv(A)\n",
    "inv_A"
   ]
  },
  {
   "cell_type": "code",
   "execution_count": 106,
   "id": "2948edb8-f2e5-4c8d-b07b-cd10b1e1927c",
   "metadata": {},
   "outputs": [
    {
     "data": {
      "text/plain": [
       "-25.99999999999999"
      ]
     },
     "execution_count": 106,
     "metadata": {},
     "output_type": "execute_result"
    }
   ],
   "source": [
    "# Determinant of A\n",
    "det_A = np.linalg.det(A)\n",
    "det_A"
   ]
  },
  {
   "cell_type": "code",
   "execution_count": null,
   "id": "6a5cb5fd-bd28-40c2-a6bf-a6f56c1cdc8e",
   "metadata": {},
   "outputs": [],
   "source": []
  }
 ],
 "metadata": {
  "kernelspec": {
   "display_name": "Python 3 (ipykernel)",
   "language": "python",
   "name": "python3"
  },
  "language_info": {
   "codemirror_mode": {
    "name": "ipython",
    "version": 3
   },
   "file_extension": ".py",
   "mimetype": "text/x-python",
   "name": "python",
   "nbconvert_exporter": "python",
   "pygments_lexer": "ipython3",
   "version": "3.12.3"
  }
 },
 "nbformat": 4,
 "nbformat_minor": 5
}
